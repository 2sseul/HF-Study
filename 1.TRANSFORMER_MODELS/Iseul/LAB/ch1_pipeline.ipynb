{
  "cells": [
    {
      "cell_type": "code",
      "execution_count": null,
      "metadata": {
        "colab": {
          "base_uri": "https://localhost:8080/",
          "height": 344,
          "referenced_widgets": [
            "875ac5b5d4074cebba415c12d7b17670",
            "d0126c131cf1484d929fac1cc5ff6839",
            "54f342a7ddbe49088b3577967cc6aa81",
            "3ef8a8ae9299451bbebb9f68283e0cd4",
            "ce5b961e543442d49d72ecf9d3a3587c",
            "66d8ee7b29d84e7e9009e1f0b7f16131",
            "ffadd8709a004c5dbd30633bf78a4ffd",
            "db9ee6d1a3b54a78b9c4ea6f86265249",
            "fd8ad2ca5a7441378206051109df4fba",
            "a3cd336436de46a0bd4d2f260d6d9370",
            "c8f4813ace7d42feb9cc3d584930259c",
            "677d2ea2e02c434585cfde44d3c4f4d9",
            "20d9e64398d14d1ebbf2e8ab628b6132",
            "97e3ab44f0954c978b2c9cd02337fd7c",
            "d3ecac81f90a43e4b7b1644ac6f2d36e",
            "72df205d2ee94dc8ba73894933a65ded",
            "d1342dfd70d44830a20b5154ae44c383",
            "b790c184c8e5464ea8d63ab0249c471a",
            "f186daef77d24d4fa6bcaf235da6f113",
            "f74f07d6f42443ddb4caf3f0e989cf1f",
            "427e6635ee9c47ac8ea830f401a0e098",
            "f2cd189e92d24b49a60f7ac837401e78",
            "325ae1697f3a4f5fb176a03fa6ffe1d2",
            "2bdd8ea276ad42ce813312c91916250f",
            "74f45ccfd09944d99b73b320e353c94b",
            "6e031738927b4905aec5b3e10feaec8f",
            "f0bcf54cb96e4be6bd6c3486fc348ce9",
            "cd6415fbcb26400885542f5fc7d17c61",
            "0b18d926075f48e8b8f96d8a81cf75d8",
            "661a2b5dc6c6455a89ae1f12c443ec74",
            "dfd8604f72f1499d9e195dfd94020ac5",
            "d575eed3f9ae4ad89efe472ea823f40b",
            "0d2cbe60a1864195b72b14828e424ad3",
            "7ea599c68e3d4ff59966afbd85e171e6",
            "4478d8d6e3cb4ecea1688cb30b329ed0",
            "7edabfa7aa70443f8822ae990ba48674",
            "1498f9ce82a94328b70ef11d17d9a776",
            "259e17d69503469e98c82aa35e784f3d",
            "44c450f5decc468dbabc8b933118b2c3",
            "f690de429e624e12a0fb06ff1cf4f4f7",
            "4ba5cfaf613943d58b4655bf29c3d34a",
            "aeee677e026f4971b0c2b6f72461537a",
            "4e34b2e32ac24f42b92fd2fd96448be9",
            "fa272bbb92f1497caa21bb4f7cdf26bc"
          ]
        },
        "id": "pjHP6ESVgOW7",
        "outputId": "29082fff-8a41-4d09-f0e1-7a46c150bd4e"
      },
      "outputs": [
        {
          "name": "stderr",
          "output_type": "stream",
          "text": [
            "No model was supplied, defaulted to distilbert/distilbert-base-uncased-finetuned-sst-2-english and revision 714eb0f (https://huggingface.co/distilbert/distilbert-base-uncased-finetuned-sst-2-english).\n",
            "Using a pipeline without specifying a model name and revision in production is not recommended.\n",
            "/usr/local/lib/python3.12/dist-packages/huggingface_hub/utils/_auth.py:94: UserWarning: \n",
            "The secret `HF_TOKEN` does not exist in your Colab secrets.\n",
            "To authenticate with the Hugging Face Hub, create a token in your settings tab (https://huggingface.co/settings/tokens), set it as secret in your Google Colab and restart your session.\n",
            "You will be able to reuse this secret in all of your notebooks.\n",
            "Please note that authentication is recommended but still optional to access public models or datasets.\n",
            "  warnings.warn(\n"
          ]
        },
        {
          "data": {
            "application/vnd.jupyter.widget-view+json": {
              "model_id": "875ac5b5d4074cebba415c12d7b17670",
              "version_major": 2,
              "version_minor": 0
            },
            "text/plain": [
              "config.json:   0%|          | 0.00/629 [00:00<?, ?B/s]"
            ]
          },
          "metadata": {},
          "output_type": "display_data"
        },
        {
          "data": {
            "application/vnd.jupyter.widget-view+json": {
              "model_id": "677d2ea2e02c434585cfde44d3c4f4d9",
              "version_major": 2,
              "version_minor": 0
            },
            "text/plain": [
              "model.safetensors:   0%|          | 0.00/268M [00:00<?, ?B/s]"
            ]
          },
          "metadata": {},
          "output_type": "display_data"
        },
        {
          "data": {
            "application/vnd.jupyter.widget-view+json": {
              "model_id": "325ae1697f3a4f5fb176a03fa6ffe1d2",
              "version_major": 2,
              "version_minor": 0
            },
            "text/plain": [
              "tokenizer_config.json:   0%|          | 0.00/48.0 [00:00<?, ?B/s]"
            ]
          },
          "metadata": {},
          "output_type": "display_data"
        },
        {
          "data": {
            "application/vnd.jupyter.widget-view+json": {
              "model_id": "7ea599c68e3d4ff59966afbd85e171e6",
              "version_major": 2,
              "version_minor": 0
            },
            "text/plain": [
              "vocab.txt: 0.00B [00:00, ?B/s]"
            ]
          },
          "metadata": {},
          "output_type": "display_data"
        },
        {
          "name": "stderr",
          "output_type": "stream",
          "text": [
            "Device set to use cpu\n"
          ]
        },
        {
          "data": {
            "text/plain": [
              "[{'label': 'POSITIVE', 'score': 0.9962900876998901}]"
            ]
          },
          "execution_count": 1,
          "metadata": {},
          "output_type": "execute_result"
        }
      ],
      "source": [
        "from transformers import pipeline\n",
        "\n",
        "classifier = pipeline(\"sentiment-analysis\")\n",
        "classifier(\"I can't wait to go to Singapore\")"
      ]
    },
    {
      "cell_type": "code",
      "execution_count": null,
      "metadata": {
        "colab": {
          "base_uri": "https://localhost:8080/"
        },
        "id": "rL4EKwgviKzz",
        "outputId": "4e5907de-99a1-4455-f00c-97979b921788"
      },
      "outputs": [
        {
          "data": {
            "text/plain": [
              "[{'label': 'NEGATIVE', 'score': 0.9740378856658936},\n",
              " {'label': 'POSITIVE', 'score': 0.9998788833618164}]"
            ]
          },
          "execution_count": 2,
          "metadata": {},
          "output_type": "execute_result"
        }
      ],
      "source": [
        "classifier(\n",
        "    [\"I can't believe I have to wake up early again tomorrow.\", \"I love this so much!\"]\n",
        ")"
      ]
    },
    {
      "cell_type": "code",
      "execution_count": null,
      "metadata": {
        "colab": {
          "base_uri": "https://localhost:8080/",
          "height": 336,
          "referenced_widgets": [
            "6114246b00a6472098c2215201028060",
            "67467a74ea4b426587f243e00516f08e",
            "ab119981533f47a18daf4173001fac49",
            "74508afe98764c43bea90a2a246f1e71",
            "e095d07901404dc69bcae212f1246c60",
            "5a525dd01704423781f6a9cbaf224dac",
            "c43edbbb8742407cae3c19ae72047f41",
            "6e3f415a036d412abb3a1c863ec52a18",
            "ec9f2196834a451a9b7300ce4fa0f874",
            "96435a4e37574c24b124f0f152e69b14",
            "a6be45f127f246da878c012774d344e7",
            "c2735a031e7c45a98444f2ad8e0b8aa1",
            "490d8f14444648038f389ecc758a3b46",
            "ba863089fc0147f39758926538e61606",
            "c1630b7ed3814464ae91169d70ad9cc0",
            "b9430c87297a4d96969b007a31b32c34",
            "1ded08cadb3d4b419aa921482b8f7a8a",
            "21bc13243af4442ead8edbd3a5c3b45a",
            "bf4754f99f894a47a916ed89b4e6a0a0",
            "cd3480298da84b77991eb05d7b8208f6",
            "4e65bb413fcd4571b0f88c97a95cf368",
            "dcf4bf5f617f4cf597018dd744f41371",
            "57fe7227c5a846e1a3b184563e6d8fa5",
            "d37883af40304ff1b67cb3c444449f20",
            "44c0a26e6fa34ab7bb9807657f28bfcb",
            "c5413ad14cfa4704b31249918058336b",
            "0435c95a6c1746d78eed1fe94b6c6883",
            "b22544076d3548239254fffea5843179",
            "9e3f1316a2f84830835e3f6eafec88a9",
            "b81d0415278b4bd19e7bf3a663e814ce",
            "7175357d5ba940bab156d1a37a2bacfa",
            "92458776489840fab4bc47c2a24841af",
            "2034535b9de34c44ad54582756c84dfe",
            "c75de08cb0e149779d5dd0b0cd49a963",
            "8c8d1a03b0de461ca2fcb11779dc1853",
            "52255be88b4744289b216fc1ab418702",
            "dd629d55b88245d393745aaa179b5529",
            "aa492bc546524037992b9fee9f237bf7",
            "4b61f9c8d3c9488fbf82e6eb9f911c3b",
            "d976a7f7034b40dcb124111002a8aea4",
            "bb36e354a59940feaee1a844ff15c865",
            "6022e0b2d8f74991b3ef94e6441579cb",
            "71c1cd2eac68429e9cea177664aed165",
            "940bb7e6bab0417084854a0e42bd6d86",
            "b71c629ea05b4f1685289ac17aba2ae9",
            "9301855278d546c18468f898c22c6d96",
            "c6b44ac681424f4aa53904268d7ceb32",
            "63e07588314f44199f5af95a2e5d2cef",
            "dda129acd05341e7a06d9933c5e83938",
            "5e3dc47e60ce408a9b6d7b0e02d203cc",
            "e086074530d1412dbdca65061659e9f8",
            "9966e806c1ad445f817cbb5b24f5fdae",
            "9e8942b5c5f14322b6143b01fab5916b",
            "cb502855222c46de87bfc270d8c07396",
            "40a4f0a606f5412b84cd19698348c825",
            "12a59af92f0f44949915f6e296b6ac19",
            "134da6d2a33a4d40a378beaf09a5da42",
            "baa04a791af84a7991b3666d125ff29e",
            "ed400568d8454ceda18b876ec0377c0e",
            "c8094fdfc9ff46969b58494734818721",
            "cb618664c4ba4f31a7950925da5ae86e",
            "caf02d3622534117bf0abea1f71968f0",
            "69baf5831ba94d19baf16e580c7548f6",
            "a9b1748914144028aca7f8c359c71c98",
            "a1c0030682b946b3b704192eb5503860",
            "95c6fc261976421aab6f1f968a5c785b"
          ]
        },
        "id": "ROxFVDcNj1nh",
        "outputId": "b5bedb53-99c3-4ad8-eee8-27dd634e4dd7"
      },
      "outputs": [
        {
          "name": "stderr",
          "output_type": "stream",
          "text": [
            "No model was supplied, defaulted to facebook/bart-large-mnli and revision d7645e1 (https://huggingface.co/facebook/bart-large-mnli).\n",
            "Using a pipeline without specifying a model name and revision in production is not recommended.\n"
          ]
        },
        {
          "data": {
            "application/vnd.jupyter.widget-view+json": {
              "model_id": "6114246b00a6472098c2215201028060",
              "version_major": 2,
              "version_minor": 0
            },
            "text/plain": [
              "config.json: 0.00B [00:00, ?B/s]"
            ]
          },
          "metadata": {},
          "output_type": "display_data"
        },
        {
          "data": {
            "application/vnd.jupyter.widget-view+json": {
              "model_id": "c2735a031e7c45a98444f2ad8e0b8aa1",
              "version_major": 2,
              "version_minor": 0
            },
            "text/plain": [
              "model.safetensors:   0%|          | 0.00/1.63G [00:00<?, ?B/s]"
            ]
          },
          "metadata": {},
          "output_type": "display_data"
        },
        {
          "data": {
            "application/vnd.jupyter.widget-view+json": {
              "model_id": "57fe7227c5a846e1a3b184563e6d8fa5",
              "version_major": 2,
              "version_minor": 0
            },
            "text/plain": [
              "tokenizer_config.json:   0%|          | 0.00/26.0 [00:00<?, ?B/s]"
            ]
          },
          "metadata": {},
          "output_type": "display_data"
        },
        {
          "data": {
            "application/vnd.jupyter.widget-view+json": {
              "model_id": "c75de08cb0e149779d5dd0b0cd49a963",
              "version_major": 2,
              "version_minor": 0
            },
            "text/plain": [
              "vocab.json: 0.00B [00:00, ?B/s]"
            ]
          },
          "metadata": {},
          "output_type": "display_data"
        },
        {
          "data": {
            "application/vnd.jupyter.widget-view+json": {
              "model_id": "b71c629ea05b4f1685289ac17aba2ae9",
              "version_major": 2,
              "version_minor": 0
            },
            "text/plain": [
              "merges.txt: 0.00B [00:00, ?B/s]"
            ]
          },
          "metadata": {},
          "output_type": "display_data"
        },
        {
          "data": {
            "application/vnd.jupyter.widget-view+json": {
              "model_id": "12a59af92f0f44949915f6e296b6ac19",
              "version_major": 2,
              "version_minor": 0
            },
            "text/plain": [
              "tokenizer.json: 0.00B [00:00, ?B/s]"
            ]
          },
          "metadata": {},
          "output_type": "display_data"
        },
        {
          "name": "stderr",
          "output_type": "stream",
          "text": [
            "Device set to use cpu\n"
          ]
        },
        {
          "data": {
            "text/plain": [
              "{'sequence': 'This is a course about the Transformers library',\n",
              " 'labels': ['education', 'business', 'politics'],\n",
              " 'scores': [0.8445994257926941, 0.11197380721569061, 0.04342673346400261]}"
            ]
          },
          "execution_count": 3,
          "metadata": {},
          "output_type": "execute_result"
        }
      ],
      "source": [
        "classifier = pipeline(\"zero-shot-classification\")\n",
        "\n",
        "classifier(\n",
        "    \"This is a course about the Transformers library\",\n",
        "    candidate_labels=[\"education\", \"politics\", \"business\"],\n",
        ")"
      ]
    },
    {
      "cell_type": "code",
      "execution_count": null,
      "metadata": {
        "colab": {
          "base_uri": "https://localhost:8080/",
          "height": 547,
          "referenced_widgets": [
            "dab143785f304110b05aef7d3e1a2f18",
            "775b9dc73e5445d0aa4a2fd80a24c536",
            "c1650d3a23a442dbb3d74d1254ba0dbc",
            "4ceac0b49ea6454f85233477148479e9",
            "e34044b9f90d47339891643ba6081599",
            "6ceaa814db1e4cf08aad5c2e4e1742e7",
            "44b3f0b9340e4427a5135acf8bd4365e",
            "14839927ec94474a8b370c47cc54578b",
            "5c449a5a81d94cafb9da7f5233220ffc",
            "0e28c5f8acb34d2982495c43e0c21991",
            "60dcdeecda9b4114b0c076e2c39fb64c",
            "80edab84b85c4249b8bcac3b54d70db9",
            "3ba7922fe6ff42c09dffd7d4774b76a6",
            "57848dd0a48a4d76886f6fa39ffec53b",
            "da798af7214a47d8ac349646284cb604",
            "83e0e9b15dc3427c9bd00e511d24880c",
            "71e9d01bb47d4c8c848f3309216e4d19",
            "1a1cddfd429b4db2819b8d2d883f440f",
            "3942955777434bcd90f64fbb5c006328",
            "a9d0ddbca6ee45f38833dc735b9de01a",
            "d5d4d57d82494c6595d11f31c2506e27",
            "10bf98800ce34c2c997e252f69da83ee",
            "31c1492c07c4460ebc83994f421ee6ec",
            "b7628392e42f4685b10b91817f909faf",
            "f19433d8c6ed488b81ab4a5741fa6faf",
            "205b2fc91c064fbe8427375d1d8f4e50",
            "b55da9b3495c42b2b614485e22b5ae3c",
            "4bd80b01d5654e548d1ba7b3eb36616b",
            "224e9b16c73240128576d092b4816466",
            "fbbc54991b98430faf29655758103a23",
            "38644ee6b8ef4008a0ff142bb8e992e4",
            "3b88cc95593f4273887de5baa40509f1",
            "7dc29fdf5b64431780c387ab201c3585",
            "2fcb18380a6949408b24fd7a4b58400b",
            "412a6bd4e8004d1997001da9c8605689",
            "686acef685394a6d9df50b60f80119ef",
            "d5c9276286b949a9b05c3288f7e48b83",
            "81c4a55a22dd4860ba38e12dad2bb65f",
            "cdfb5dfecf7940ce81e02899fa0e8933",
            "c343d1d9300d46a1a2c86aaaac0fbd4a",
            "35bbba642ef349009197160b930f5074",
            "a505a68d32564fb98611663790e73816",
            "ff9851647f6440fb86d7dd5363abcdca",
            "7f5d7d4f67c644d089af2aed0279bf1d",
            "9afd7d3d2e6146c6b46f92654a2fc7fd",
            "48404bc7dbcb435cbb7ddbf05e784fff",
            "2919609e6f964f46b53ad02ecde31fe4",
            "cca7ecda2dbe415e8e6d7e5021954a93",
            "ee68fa0c3c5f4690832ca3e86a955674",
            "69714344a591438782f4211f40738f54",
            "196ab0061dbb42a68e4b9a7733ffedb0",
            "b5e37cde72794631b6c0afd89c84d0a8",
            "c675ad79b17e408da6ea511bdc75a211",
            "b19c692bea6e4aafaa5a3163cfd91ef2",
            "85edc0cca7424a5f8b7b81bdfa4a54d9",
            "ccd3a700dd024502a79b905253a5c665",
            "5864bbd949cd4f3691e0bfac53034d40",
            "d04948afeba54f319acfe0a39c471ee9",
            "0804f81647454d30bcc2c41b8cc54a52",
            "4e58732e1688415ea835660d6549f4c4",
            "e597e743eb0d46cdbf0e1d417b2ef961",
            "ba1283a4c72c4b5a93144b56d50630ef",
            "14ba251493a14bb585acee7b1762c076",
            "88d91f680c034ffbb16dd904fc65afca",
            "08c2a6b2108d44baa34aa9637a10fd4c",
            "51b48f2616354094a10facbbfb6685c9",
            "7dbf4731afde4c9a84edb114479f9b0f",
            "5306325023e840a4b96add25d18f0c36",
            "b160caef613141498c3cc844a1b5058f",
            "fe563cc66f4a4ed7af861567bb76ac98",
            "bd81f4c10d704189a2b8375d7cf68b43",
            "1a852ce4c4604fcb8ad37a32fb9223f6",
            "d38c2437574447ec85bbd0177541c2eb",
            "6ee8c35b1ef049cdaba0e1f6e932fd5c",
            "f7a603da68aa4a43adda4b3c4cab7e70",
            "665f9c7479444a3eb1a080db62525e9c",
            "40561ca572134cdfb5cfd08fec38883f"
          ]
        },
        "id": "LBEH8L7opdaz",
        "outputId": "949020d1-f7e1-4cc3-ef14-5693d1bdcfb1"
      },
      "outputs": [
        {
          "name": "stderr",
          "output_type": "stream",
          "text": [
            "No model was supplied, defaulted to openai-community/gpt2 and revision 607a30d (https://huggingface.co/openai-community/gpt2).\n",
            "Using a pipeline without specifying a model name and revision in production is not recommended.\n"
          ]
        },
        {
          "data": {
            "application/vnd.jupyter.widget-view+json": {
              "model_id": "dab143785f304110b05aef7d3e1a2f18",
              "version_major": 2,
              "version_minor": 0
            },
            "text/plain": [
              "config.json:   0%|          | 0.00/665 [00:00<?, ?B/s]"
            ]
          },
          "metadata": {},
          "output_type": "display_data"
        },
        {
          "data": {
            "application/vnd.jupyter.widget-view+json": {
              "model_id": "80edab84b85c4249b8bcac3b54d70db9",
              "version_major": 2,
              "version_minor": 0
            },
            "text/plain": [
              "model.safetensors:   0%|          | 0.00/548M [00:00<?, ?B/s]"
            ]
          },
          "metadata": {},
          "output_type": "display_data"
        },
        {
          "data": {
            "application/vnd.jupyter.widget-view+json": {
              "model_id": "31c1492c07c4460ebc83994f421ee6ec",
              "version_major": 2,
              "version_minor": 0
            },
            "text/plain": [
              "generation_config.json:   0%|          | 0.00/124 [00:00<?, ?B/s]"
            ]
          },
          "metadata": {},
          "output_type": "display_data"
        },
        {
          "data": {
            "application/vnd.jupyter.widget-view+json": {
              "model_id": "2fcb18380a6949408b24fd7a4b58400b",
              "version_major": 2,
              "version_minor": 0
            },
            "text/plain": [
              "tokenizer_config.json:   0%|          | 0.00/26.0 [00:00<?, ?B/s]"
            ]
          },
          "metadata": {},
          "output_type": "display_data"
        },
        {
          "data": {
            "application/vnd.jupyter.widget-view+json": {
              "model_id": "9afd7d3d2e6146c6b46f92654a2fc7fd",
              "version_major": 2,
              "version_minor": 0
            },
            "text/plain": [
              "vocab.json: 0.00B [00:00, ?B/s]"
            ]
          },
          "metadata": {},
          "output_type": "display_data"
        },
        {
          "data": {
            "application/vnd.jupyter.widget-view+json": {
              "model_id": "ccd3a700dd024502a79b905253a5c665",
              "version_major": 2,
              "version_minor": 0
            },
            "text/plain": [
              "merges.txt: 0.00B [00:00, ?B/s]"
            ]
          },
          "metadata": {},
          "output_type": "display_data"
        },
        {
          "data": {
            "application/vnd.jupyter.widget-view+json": {
              "model_id": "7dbf4731afde4c9a84edb114479f9b0f",
              "version_major": 2,
              "version_minor": 0
            },
            "text/plain": [
              "tokenizer.json: 0.00B [00:00, ?B/s]"
            ]
          },
          "metadata": {},
          "output_type": "display_data"
        },
        {
          "name": "stderr",
          "output_type": "stream",
          "text": [
            "Device set to use cpu\n",
            "Setting `pad_token_id` to `eos_token_id`:50256 for open-end generation.\n"
          ]
        },
        {
          "data": {
            "text/plain": [
              "[{'generated_text': 'In this course, we will teach you how to connect an application to a web page using jQuery. The following tutorials demonstrate how to connect an application to a project using jQuery.\\n\\nThis course is designed to be a quick, easy and secure way to learn about jQuery. You will learn how to create a simple website for your project.\\n\\nWe will demonstrate how to create a simple website for your project using jQuery. We will talk about creating a simple website for your project using jQuery. We will talk about adding and changing jQuery objects. We will talk about creating a single page for your project with jQuery.\\n\\nWe will talk about creating a single page for your project with JQuery. We will talk about adding and changing jQuery objects. We will talk about creating a single page for your project with jQuery. We will talk about adding and changing jQuery objects. We will talk about creating a single page for your project with jQuery. We will talk about adding and changing jQuery objects. We will talk about adding and changing jQuery objects. We will talk about creating a single page for your project with jQuery. We will talk about adding and changing jQuery objects.\\n\\nWe will teach you how to connect an application to a web page using jQuery. The following tutorials demonstrate how to connect an application to a web page using jQuery.'}]"
            ]
          },
          "execution_count": 4,
          "metadata": {},
          "output_type": "execute_result"
        }
      ],
      "source": [
        "from transformers import pipeline\n",
        "\n",
        "generator = pipeline(\"text-generation\")\n",
        "generator(\"In this course, we will teach you how to\")"
      ]
    },
    {
      "cell_type": "code",
      "execution_count": null,
      "metadata": {
        "colab": {
          "base_uri": "https://localhost:8080/"
        },
        "id": "UN5I0uCZsHVH",
        "outputId": "a2ae0d5f-0add-4db3-fd5f-4ad86cec5f66"
      },
      "outputs": [
        {
          "name": "stderr",
          "output_type": "stream",
          "text": [
            "Truncation was not explicitly activated but `max_length` is provided a specific value, please use `truncation=True` to explicitly truncate examples to max length. Defaulting to 'longest_first' truncation strategy. If you encode pairs of sequences (GLUE-style) with the tokenizer you can select this strategy more precisely by providing a specific strategy to `truncation`.\n",
            "Setting `pad_token_id` to `eos_token_id`:50256 for open-end generation.\n",
            "Both `max_new_tokens` (=256) and `max_length`(=15) seem to have been set. `max_new_tokens` will take precedence. Please refer to the documentation for more information. (https://huggingface.co/docs/transformers/main/en/main_classes/text_generation)\n"
          ]
        },
        {
          "data": {
            "text/plain": [
              "[{'generated_text': 'In this course, we will try to show that the world is not a monolithic place, but rather a dynamic one.\\n\\nThe first and most important thing to understand is that when we look at the world around us, we see some very simple things we would not expect to see in the world of other people. For instance, the global temperature is now above the 1951 average and the global average is 6.7°C above the 1880 average. The world is also more chaotic than it is in the past. Each day on Earth is more chaotic than the last.\\n\\nSo the world is a chaotic place, but it is also a dynamic place.\\n\\nThe second and more important thing to understand is that we are all part of a dynamic world.\\n\\nThe third and most important thing to understand is that we are all part of a single world.\\n\\nThis is why I think that the most important thing is that we are all part of this dynamic world, and that we are all part of the same world.\\n\\nIf we all were part of the same world, then we would all be part of the same world.\\n\\nIf we all were part of the same world, then we would all be part of the same world.\\n\\nIf all'},\n",
              " {'generated_text': \"In this course, we'll build on the work of Michael S. Jones, the principal investigator of the Federal Bureau of Investigation (FBI), who developed a theory that the Soviet Union had been the most effective, technologically and politically active, and effective economic force in world history.\\n\\nWe'll also explore some of the other important issues in the field. For example, we'll explore the implications of the U.S. war in Iraq for the future of the United States, and explore the question of how our government's current posture contributes to the United States' current and future military commitments. Finally, we'll look at the possibility that a major military conflict will have an adverse impact on our national security.\\n\\nWe'll also address the question of the effect of the Iraq War on national security.\\n\\nIn this course, we'll discuss the U.S. military's role in Iraq and the role it played in the Middle East, including its role in the Cold War.\\n\\nThis course will include a series of lectures, two online lectures, and a one-hour workshop.\\n\\nThe course will begin with a presentation by the Professor Robert L. R. Hall, who has spent the past several years at the National Security Council and has provided some of the primary research on\"}]"
            ]
          },
          "execution_count": 5,
          "metadata": {},
          "output_type": "execute_result"
        }
      ],
      "source": [
        "# num_return_sequences 및 인수를 사용하여 max_length각각 15개 토큰으로 구성된 두 문장을 생성\n",
        "generator(\"In this course,\", num_return_sequences=2, max_length=15)"
      ]
    },
    {
      "cell_type": "code",
      "execution_count": null,
      "metadata": {
        "colab": {
          "base_uri": "https://localhost:8080/",
          "height": 304,
          "referenced_widgets": [
            "5ad3c606e961439fb793704f0e6955dc",
            "579664f59923466b97a7d45ef3155c40",
            "370daea0a984484bb75e1c3d24f06ade",
            "acf9540d16ad4026802a52ffbca4b553",
            "1d4c95089fc144af863c6091d18b9a34",
            "8159e0c2cb3a4899a4b7d0d91e2c30fc",
            "1f77bb99ecfe4d1798d88e62b16a33d1",
            "1e215fffa9944c02a1f02e9a9e931265",
            "1a5c8e825501412e99b452e806ebc609",
            "195df7c3fb1c4948ac1022207b913a09",
            "7b9bf834929c49d1bc63db3dfb34a68c",
            "221ff00955844d8cafe0893de038492f",
            "9c6f43e9401741968f34e4a9fec12dd4",
            "c89ebeda2c264d3bae3e49c7b5afc2ff",
            "179f049f973d411697ef45c867bcf88b",
            "4195d2721fcd44c88fa117bf852ab324",
            "9135fa06d284417e856a227bf02b6329",
            "cfcab6706fa24caca15a1bb1b75a4f7e",
            "19bc6f6a3feb4aaba4ec76eb3f5281d6",
            "9a2b0265c7c146f88352b83d6e3c428e",
            "5daf3d9b777149b8b872278446681934",
            "42f2f73080004fb7abb89d49125fa87e",
            "7022f2b642d64d65a5327625b20327ed",
            "1af804f5425743d1ae51414c593551c8",
            "3321e8ed6d2c49eeb1811dee275c3afa",
            "1e7af2de67ee4ed9975542f60cb85643",
            "9dbddf1cd39842e3b5cb928efb9255ed",
            "ac307eb2a77147c3b92aed1db1eb4802",
            "cbc4cc1e35684ba18cee3240548cbad8",
            "642b0053212e4e3fb4ad73285257f640",
            "e2ad4a2e25684c69b236462a2617a913",
            "c427496d35c8480b8cbe22bb1ee321b2",
            "028f3a339a874a529cf2b16b61b5c9f9",
            "bbea8bae457a40abbb6d8f2e7eef5971",
            "d4d55410084b4c95be7b0e736b73c2db",
            "289604518a704761a495ed3badfca699",
            "24604f90a7c44374baf94fe964cb2e53",
            "2f8b34cc96844dce933120d728c84906",
            "41764cd2b699401ea1b5c618fd4189c8",
            "dc30a249cab748e6a7f873a96ee95866",
            "d10a47183f81485b9ca395896165fb42",
            "c69dbcc061194675889139ea07496fb3",
            "a66a0e22220e4d67bf9e8cb9de9cae37",
            "60ff72be180947f1a906ebeb8fd6395b",
            "79dc74be9f34490795e3d9f5dee4289b",
            "12b463eac1f149dbbcefe37e579e7329",
            "e66a1842b5344a479a1576bab76c1c57",
            "b328c1c9c5f14b2d84fafd5585126900",
            "84d6385b7d804ce58506c80335f40c1f",
            "708be2daca3143bb9ebf24ac2da8b023",
            "8edc75c0836c4305b8362b322fca3374",
            "7741c7e07edb4bfeb85c975b599d1025",
            "bee2c294e3e44aa39f766ba7b38182f8",
            "9c54a21fcd4747afa894be1e191c357d",
            "2441c45ca017458db67f84621b98c66e"
          ]
        },
        "id": "LSt3ZKDks2ju",
        "outputId": "a376e077-c2a2-4f44-fc62-bacd6c53988c"
      },
      "outputs": [
        {
          "data": {
            "application/vnd.jupyter.widget-view+json": {
              "model_id": "5ad3c606e961439fb793704f0e6955dc",
              "version_major": 2,
              "version_minor": 0
            },
            "text/plain": [
              "config.json:   0%|          | 0.00/570 [00:00<?, ?B/s]"
            ]
          },
          "metadata": {},
          "output_type": "display_data"
        },
        {
          "data": {
            "application/vnd.jupyter.widget-view+json": {
              "model_id": "221ff00955844d8cafe0893de038492f",
              "version_major": 2,
              "version_minor": 0
            },
            "text/plain": [
              "model.safetensors:   0%|          | 0.00/440M [00:00<?, ?B/s]"
            ]
          },
          "metadata": {},
          "output_type": "display_data"
        },
        {
          "name": "stderr",
          "output_type": "stream",
          "text": [
            "Some weights of the model checkpoint at bert-base-uncased were not used when initializing BertForMaskedLM: ['bert.pooler.dense.bias', 'bert.pooler.dense.weight', 'cls.seq_relationship.bias', 'cls.seq_relationship.weight']\n",
            "- This IS expected if you are initializing BertForMaskedLM from the checkpoint of a model trained on another task or with another architecture (e.g. initializing a BertForSequenceClassification model from a BertForPreTraining model).\n",
            "- This IS NOT expected if you are initializing BertForMaskedLM from the checkpoint of a model that you expect to be exactly identical (initializing a BertForSequenceClassification model from a BertForSequenceClassification model).\n"
          ]
        },
        {
          "data": {
            "application/vnd.jupyter.widget-view+json": {
              "model_id": "7022f2b642d64d65a5327625b20327ed",
              "version_major": 2,
              "version_minor": 0
            },
            "text/plain": [
              "tokenizer_config.json:   0%|          | 0.00/48.0 [00:00<?, ?B/s]"
            ]
          },
          "metadata": {},
          "output_type": "display_data"
        },
        {
          "data": {
            "application/vnd.jupyter.widget-view+json": {
              "model_id": "bbea8bae457a40abbb6d8f2e7eef5971",
              "version_major": 2,
              "version_minor": 0
            },
            "text/plain": [
              "vocab.txt:   0%|          | 0.00/232k [00:00<?, ?B/s]"
            ]
          },
          "metadata": {},
          "output_type": "display_data"
        },
        {
          "data": {
            "application/vnd.jupyter.widget-view+json": {
              "model_id": "79dc74be9f34490795e3d9f5dee4289b",
              "version_major": 2,
              "version_minor": 0
            },
            "text/plain": [
              "tokenizer.json:   0%|          | 0.00/466k [00:00<?, ?B/s]"
            ]
          },
          "metadata": {},
          "output_type": "display_data"
        },
        {
          "name": "stderr",
          "output_type": "stream",
          "text": [
            "Device set to use cpu\n"
          ]
        },
        {
          "name": "stdout",
          "output_type": "stream",
          "text": [
            "['carpenter', 'lawyer', 'farmer', 'businessman', 'doctor']\n",
            "['nurse', 'maid', 'teacher', 'waitress', 'prostitute']\n"
          ]
        }
      ],
      "source": [
        "from transformers import pipeline\n",
        "\n",
        "unmasker = pipeline(\"fill-mask\", model=\"bert-base-uncased\")\n",
        "result = unmasker(\"This man works as a [MASK].\")\n",
        "print([r[\"token_str\"] for r in result])\n",
        "\n",
        "result = unmasker(\"This woman works as a [MASK].\")\n",
        "print([r[\"token_str\"] for r in result])"
      ]
    },
    {
      "cell_type": "code",
      "execution_count": null,
      "metadata": {
        "colab": {
          "base_uri": "https://localhost:8080/",
          "height": 233
        },
        "id": "WTyiwAcE_xsz",
        "outputId": "dfa58358-1158-46a1-f2a3-8355aeb654a1"
      },
      "outputs": [
        {
          "ename": "FileNotFoundError",
          "evalue": "[Errno 2] No such file or directory: '/content/drive/MyDrive/Colab_Notebooks/허깅페이스/ch1.pileline.ipynb'",
          "output_type": "error",
          "traceback": [
            "\u001b[0;31m---------------------------------------------------------------------------\u001b[0m",
            "\u001b[0;31mFileNotFoundError\u001b[0m                         Traceback (most recent call last)",
            "\u001b[0;32m/tmp/ipython-input-577994150.py\u001b[0m in \u001b[0;36m<cell line: 0>\u001b[0;34m()\u001b[0m\n\u001b[1;32m      5\u001b[0m \u001b[0;34m\u001b[0m\u001b[0m\n\u001b[1;32m      6\u001b[0m \u001b[0;31m# 파일을 열 때 open()을 꼭 사용해야 함\u001b[0m\u001b[0;34m\u001b[0m\u001b[0;34m\u001b[0m\u001b[0m\n\u001b[0;32m----> 7\u001b[0;31m \u001b[0;32mwith\u001b[0m \u001b[0mopen\u001b[0m\u001b[0;34m(\u001b[0m\u001b[0mSRC\u001b[0m\u001b[0;34m,\u001b[0m \u001b[0mencoding\u001b[0m\u001b[0;34m=\u001b[0m\u001b[0;34m\"utf-8\"\u001b[0m\u001b[0;34m)\u001b[0m \u001b[0;32mas\u001b[0m \u001b[0mf\u001b[0m\u001b[0;34m:\u001b[0m\u001b[0;34m\u001b[0m\u001b[0;34m\u001b[0m\u001b[0m\n\u001b[0m\u001b[1;32m      8\u001b[0m     \u001b[0mnb\u001b[0m \u001b[0;34m=\u001b[0m \u001b[0mnbformat\u001b[0m\u001b[0;34m.\u001b[0m\u001b[0mread\u001b[0m\u001b[0;34m(\u001b[0m\u001b[0mf\u001b[0m\u001b[0;34m,\u001b[0m \u001b[0mas_version\u001b[0m\u001b[0;34m=\u001b[0m\u001b[0mnbformat\u001b[0m\u001b[0;34m.\u001b[0m\u001b[0mNO_CONVERT\u001b[0m\u001b[0;34m)\u001b[0m\u001b[0;34m\u001b[0m\u001b[0;34m\u001b[0m\u001b[0m\n\u001b[1;32m      9\u001b[0m \u001b[0;34m\u001b[0m\u001b[0m\n",
            "\u001b[0;31mFileNotFoundError\u001b[0m: [Errno 2] No such file or directory: '/content/drive/MyDrive/Colab_Notebooks/허깅페이스/ch1.pileline.ipynb'"
          ]
        }
      ],
      "source": [
        "import nbformat\n",
        "\n",
        "SRC = \"/content/drive/MyDrive/Colab_Notebooks/Hugging/ch1.pileline.ipynb\"   # 원본 파일명\n",
        "DST = SRC.replace(\".ipynb\", \"_clean.ipynb\")  # 정리된 파일명\n",
        "\n",
        "# 파일을 열 때 open()을 꼭 사용해야 함\n",
        "with open(SRC, encoding=\"utf-8\") as f:\n",
        "    nb = nbformat.read(f, as_version=nbformat.NO_CONVERT)\n",
        "\n",
        "# metadata.widgets 제거\n",
        "nb.metadata.pop(\"widgets\", None)\n",
        "\n",
        "# 각 셀 안에 들어있는 widgets 메타데이터 제거\n",
        "for cell in nb.cells:\n",
        "    cell.get(\"metadata\", {}).pop(\"widgets\", None)\n",
        "\n",
        "# 새 파일로 저장\n",
        "with open(DST, \"w\", encoding=\"utf-8\") as f:\n",
        "    nbformat.write(nb, f)\n",
        "\n",
        "print(\"정리 완료 →\", DST)"
      ]
    },
    {
      "cell_type": "code",
      "execution_count": null,
      "metadata": {
        "colab": {
          "base_uri": "https://localhost:8080/"
        },
        "id": "qkK3WkeDBJEO",
        "outputId": "da917bf8-de24-4bcb-acca-7979b09f2853"
      },
      "outputs": [
        {
          "name": "stdout",
          "output_type": "stream",
          "text": [
            "Mounted at /content/drive\n"
          ]
        }
      ],
      "source": [
        "from google.colab import drive\n",
        "drive.mount('/content/drive')"
      ]
    },
    {
      "cell_type": "code",
      "execution_count": null,
      "metadata": {
        "id": "du5EFSWfBPsP"
      },
      "outputs": [],
      "source": []
    }
  ],
  "metadata": {
    "colab": {
      "provenance": [],
      "authorship_tag": "ABX9TyPQHMRm+jX/W8E4TCvWzUMZ"
    },
    "kernelspec": {
      "display_name": "Python 3",
      "name": "python3"
    },
    "language_info": {
      "name": "python"
    }
  },
  "nbformat": 4,
  "nbformat_minor": 0
}